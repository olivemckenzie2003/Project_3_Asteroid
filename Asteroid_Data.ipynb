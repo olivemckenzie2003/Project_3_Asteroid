{
 "cells": [
  {
   "cell_type": "code",
   "execution_count": 1,
   "id": "56324611",
   "metadata": {},
   "outputs": [],
   "source": [
    "# Import dependencies\n",
    "import pandas as pd\n",
    "import requests\n",
    "import json"
   ]
  },
  {
   "cell_type": "code",
   "execution_count": 2,
   "id": "7d91a960",
   "metadata": {},
   "outputs": [],
   "source": [
    "# Import the api_key \n",
    "from config import api_key"
   ]
  },
  {
   "cell_type": "code",
   "execution_count": 3,
   "id": "7f89a6b9",
   "metadata": {},
   "outputs": [],
   "source": [
    "# Create the URL \n",
    "url = \"https://api.nasa.gov/neo/rest/v1/feed?\"\n",
    "start_date = \"2023-01-01\"\n",
    "end_date = \"2023-01-08\""
   ]
  },
  {
   "cell_type": "code",
   "execution_count": 4,
   "id": "383f6dd6",
   "metadata": {},
   "outputs": [],
   "source": [
    "# Assemble the query URL\n",
    "query_url = f\"{url}start_date={start_date}&end_date={end_date}&api_key={api_key}\""
   ]
  },
  {
   "cell_type": "code",
   "execution_count": 5,
   "id": "074d20ea",
   "metadata": {},
   "outputs": [],
   "source": [
    "# Get the response\n",
    "response = requests.get(query_url).json()"
   ]
  },
  {
   "cell_type": "code",
   "execution_count": 6,
   "id": "9ac3a2e5",
   "metadata": {},
   "outputs": [],
   "source": [
    "# Create a list to store the asteriod data\n",
    "asteroids_list = []\n",
    "asteroids = response[\"near_earth_objects\"]\n",
    "# Loop through the response and pull the data for each asteriod\n",
    "for asteroid in asteroids:\n",
    "    ast = response[\"near_earth_objects\"][asteroid]\n",
    "    asteroids_list.append(ast)"
   ]
  },
  {
   "cell_type": "code",
   "execution_count": 7,
   "id": "feb7777d",
   "metadata": {},
   "outputs": [],
   "source": [
    "# import itertools and get seperate the list within a list\n",
    "import itertools\n",
    "asteroids__flist = list(itertools.chain(*asteroids_list))"
   ]
  },
  {
   "cell_type": "code",
   "execution_count": 8,
   "id": "7c8c89d4",
   "metadata": {},
   "outputs": [
    {
     "data": {
      "text/html": [
       "<div>\n",
       "<style scoped>\n",
       "    .dataframe tbody tr th:only-of-type {\n",
       "        vertical-align: middle;\n",
       "    }\n",
       "\n",
       "    .dataframe tbody tr th {\n",
       "        vertical-align: top;\n",
       "    }\n",
       "\n",
       "    .dataframe thead th {\n",
       "        text-align: right;\n",
       "    }\n",
       "</style>\n",
       "<table border=\"1\" class=\"dataframe\">\n",
       "  <thead>\n",
       "    <tr style=\"text-align: right;\">\n",
       "      <th></th>\n",
       "      <th>id</th>\n",
       "      <th>name</th>\n",
       "      <th>absolute_magnitude_h</th>\n",
       "      <th>estimated_diameter</th>\n",
       "      <th>is_potentially_hazardous_asteroid</th>\n",
       "      <th>close_approach_data</th>\n",
       "    </tr>\n",
       "  </thead>\n",
       "  <tbody>\n",
       "    <tr>\n",
       "      <th>0</th>\n",
       "      <td>2154347</td>\n",
       "      <td>154347 (2002 XK4)</td>\n",
       "      <td>16.08</td>\n",
       "      <td>{'kilometers': {'estimated_diameter_min': 1.61...</td>\n",
       "      <td>False</td>\n",
       "      <td>[{'close_approach_date': '2023-01-01', 'close_...</td>\n",
       "    </tr>\n",
       "    <tr>\n",
       "      <th>1</th>\n",
       "      <td>2385186</td>\n",
       "      <td>385186 (1994 AW1)</td>\n",
       "      <td>17.67</td>\n",
       "      <td>{'kilometers': {'estimated_diameter_min': 0.77...</td>\n",
       "      <td>True</td>\n",
       "      <td>[{'close_approach_date': '2023-01-01', 'close_...</td>\n",
       "    </tr>\n",
       "    <tr>\n",
       "      <th>2</th>\n",
       "      <td>2453309</td>\n",
       "      <td>453309 (2008 VQ4)</td>\n",
       "      <td>19.51</td>\n",
       "      <td>{'kilometers': {'estimated_diameter_min': 0.33...</td>\n",
       "      <td>False</td>\n",
       "      <td>[{'close_approach_date': '2023-01-01', 'close_...</td>\n",
       "    </tr>\n",
       "    <tr>\n",
       "      <th>3</th>\n",
       "      <td>3683468</td>\n",
       "      <td>(2014 QR295)</td>\n",
       "      <td>18.41</td>\n",
       "      <td>{'kilometers': {'estimated_diameter_min': 0.55...</td>\n",
       "      <td>False</td>\n",
       "      <td>[{'close_approach_date': '2023-01-01', 'close_...</td>\n",
       "    </tr>\n",
       "    <tr>\n",
       "      <th>4</th>\n",
       "      <td>3703782</td>\n",
       "      <td>(2015 AE45)</td>\n",
       "      <td>25.30</td>\n",
       "      <td>{'kilometers': {'estimated_diameter_min': 0.02...</td>\n",
       "      <td>False</td>\n",
       "      <td>[{'close_approach_date': '2023-01-01', 'close_...</td>\n",
       "    </tr>\n",
       "  </tbody>\n",
       "</table>\n",
       "</div>"
      ],
      "text/plain": [
       "        id               name  absolute_magnitude_h  \\\n",
       "0  2154347  154347 (2002 XK4)                 16.08   \n",
       "1  2385186  385186 (1994 AW1)                 17.67   \n",
       "2  2453309  453309 (2008 VQ4)                 19.51   \n",
       "3  3683468       (2014 QR295)                 18.41   \n",
       "4  3703782        (2015 AE45)                 25.30   \n",
       "\n",
       "                                  estimated_diameter  \\\n",
       "0  {'kilometers': {'estimated_diameter_min': 1.61...   \n",
       "1  {'kilometers': {'estimated_diameter_min': 0.77...   \n",
       "2  {'kilometers': {'estimated_diameter_min': 0.33...   \n",
       "3  {'kilometers': {'estimated_diameter_min': 0.55...   \n",
       "4  {'kilometers': {'estimated_diameter_min': 0.02...   \n",
       "\n",
       "   is_potentially_hazardous_asteroid  \\\n",
       "0                              False   \n",
       "1                               True   \n",
       "2                              False   \n",
       "3                              False   \n",
       "4                              False   \n",
       "\n",
       "                                 close_approach_data  \n",
       "0  [{'close_approach_date': '2023-01-01', 'close_...  \n",
       "1  [{'close_approach_date': '2023-01-01', 'close_...  \n",
       "2  [{'close_approach_date': '2023-01-01', 'close_...  \n",
       "3  [{'close_approach_date': '2023-01-01', 'close_...  \n",
       "4  [{'close_approach_date': '2023-01-01', 'close_...  "
      ]
     },
     "execution_count": 8,
     "metadata": {},
     "output_type": "execute_result"
    }
   ],
   "source": [
    "# Put the data into a dataframe\n",
    "asteroid_df = pd.DataFrame(asteroids__flist)\n",
    "asteroid_df\n",
    "target_cols = [\"id\", \"name\", \"absolute_magnitude_h\", \"estimated_diameter\",\n",
    "               \"is_potentially_hazardous_asteroid\", \"close_approach_data\"]\n",
    "asteroid_df = asteroid_df[target_cols]\n",
    "asteroid_df.head()"
   ]
  },
  {
   "cell_type": "code",
   "execution_count": 9,
   "id": "052b494f",
   "metadata": {},
   "outputs": [],
   "source": [
    "# Pull the data from the JSON within the \"estimated_diameter\" column and append the data to a list\n",
    "km_min_list = []\n",
    "km_max_list = []\n",
    "ft_min_list = []\n",
    "ft_max_list = []\n",
    "for i in range(0,len(asteroid_df)):\n",
    "    km_min = asteroid_df.iloc[i,3]['kilometers'][\"estimated_diameter_min\"]\n",
    "    km_min_list.append(km_min)\n",
    "    km_max = asteroid_df.iloc[i,3]['kilometers'][\"estimated_diameter_max\"]\n",
    "    km_max_list.append(km_max)\n",
    "    ft_min = asteroid_df.iloc[i,3]['feet'][\"estimated_diameter_min\"]\n",
    "    ft_min_list.append(ft_min)\n",
    "    ft_max = asteroid_df.iloc[i,3]['feet'][\"estimated_diameter_max\"]\n",
    "    ft_max_list.append(ft_max)"
   ]
  },
  {
   "cell_type": "code",
   "execution_count": 10,
   "id": "97261890",
   "metadata": {},
   "outputs": [],
   "source": [
    "# Pull the data from the JSON within the \"close_approach_data\" column and append the data to a list\n",
    "kph_list = []\n",
    "mph_list = []\n",
    "miss_dist_list_km = []\n",
    "miss_dist_miles_list = []\n",
    "for i in range(0,len(asteroid_df)):\n",
    "    kph = asteroid_df.iloc[i,5][0]['relative_velocity']['kilometers_per_hour']\n",
    "    kph_list.append(kph)\n",
    "    mph = asteroid_df.iloc[i,5][0]['relative_velocity']['miles_per_hour']\n",
    "    mph_list.append(mph)\n",
    "    miss_km = asteroid_df.iloc[i,5][0]['miss_distance']['kilometers']\n",
    "    miss_dist_list_km.append(miss_km)\n",
    "    miss_miles = asteroid_df.iloc[i,5][0]['miss_distance']['miles']\n",
    "    miss_dist_miles_list.append(miss_miles)"
   ]
  },
  {
   "cell_type": "code",
   "execution_count": 11,
   "id": "874d0015",
   "metadata": {},
   "outputs": [],
   "source": [
    "# Drop any N/A values\n",
    "asteroid_df.dropna(inplace=True)\n",
    "# Add the columns to the dataframe\n",
    "asteroid_df['km_min'] = km_min_list\n",
    "asteroid_df['km_max'] = km_max_list\n",
    "asteroid_df['ft_min'] = ft_min_list\n",
    "asteroid_df['ft_max'] = ft_max_list\n",
    "asteroid_df['velocity_kph'] = kph_list\n",
    "asteroid_df['velocity_mph'] = mph_list\n",
    "asteroid_df['miss_distance_km'] = miss_dist_list_km\n",
    "asteroid_df['miss_distance_miles'] = miss_dist_miles_list"
   ]
  },
  {
   "cell_type": "code",
   "execution_count": 12,
   "id": "d137b7e6",
   "metadata": {},
   "outputs": [
    {
     "data": {
      "text/html": [
       "<div>\n",
       "<style scoped>\n",
       "    .dataframe tbody tr th:only-of-type {\n",
       "        vertical-align: middle;\n",
       "    }\n",
       "\n",
       "    .dataframe tbody tr th {\n",
       "        vertical-align: top;\n",
       "    }\n",
       "\n",
       "    .dataframe thead th {\n",
       "        text-align: right;\n",
       "    }\n",
       "</style>\n",
       "<table border=\"1\" class=\"dataframe\">\n",
       "  <thead>\n",
       "    <tr style=\"text-align: right;\">\n",
       "      <th></th>\n",
       "      <th>id</th>\n",
       "      <th>name</th>\n",
       "      <th>magnitude</th>\n",
       "      <th>hazardous</th>\n",
       "      <th>km_min</th>\n",
       "      <th>km_max</th>\n",
       "      <th>ft_min</th>\n",
       "      <th>ft_max</th>\n",
       "      <th>velocity_kph</th>\n",
       "      <th>velocity_mph</th>\n",
       "      <th>miss_distance_km</th>\n",
       "      <th>miss_distance_miles</th>\n",
       "    </tr>\n",
       "  </thead>\n",
       "  <tbody>\n",
       "    <tr>\n",
       "      <th>0</th>\n",
       "      <td>2154347</td>\n",
       "      <td>154347 (2002 XK4)</td>\n",
       "      <td>16.08</td>\n",
       "      <td>False</td>\n",
       "      <td>1.616423</td>\n",
       "      <td>3.614431</td>\n",
       "      <td>5303.224689</td>\n",
       "      <td>11858.370904</td>\n",
       "      <td>98611.9155705492</td>\n",
       "      <td>61273.6094277115</td>\n",
       "      <td>49550751.286747985</td>\n",
       "      <td>30789409.125712793</td>\n",
       "    </tr>\n",
       "    <tr>\n",
       "      <th>1</th>\n",
       "      <td>2385186</td>\n",
       "      <td>385186 (1994 AW1)</td>\n",
       "      <td>17.67</td>\n",
       "      <td>True</td>\n",
       "      <td>0.777240</td>\n",
       "      <td>1.737961</td>\n",
       "      <td>2549.999104</td>\n",
       "      <td>5701.971339</td>\n",
       "      <td>46527.0874796056</td>\n",
       "      <td>28910.1227730916</td>\n",
       "      <td>33403488.139355999</td>\n",
       "      <td>20755965.0629068262</td>\n",
       "    </tr>\n",
       "    <tr>\n",
       "      <th>2</th>\n",
       "      <td>2453309</td>\n",
       "      <td>453309 (2008 VQ4)</td>\n",
       "      <td>19.51</td>\n",
       "      <td>False</td>\n",
       "      <td>0.333085</td>\n",
       "      <td>0.744801</td>\n",
       "      <td>1092.798343</td>\n",
       "      <td>2443.571381</td>\n",
       "      <td>20959.8190961752</td>\n",
       "      <td>13023.6164822873</td>\n",
       "      <td>39565965.365513706</td>\n",
       "      <td>24585150.8495369028</td>\n",
       "    </tr>\n",
       "    <tr>\n",
       "      <th>3</th>\n",
       "      <td>3683468</td>\n",
       "      <td>(2014 QR295)</td>\n",
       "      <td>18.41</td>\n",
       "      <td>False</td>\n",
       "      <td>0.552783</td>\n",
       "      <td>1.236061</td>\n",
       "      <td>1813.593823</td>\n",
       "      <td>4055.319071</td>\n",
       "      <td>58249.6828812893</td>\n",
       "      <td>36194.0876769878</td>\n",
       "      <td>39330822.646315866</td>\n",
       "      <td>24439039.9390803108</td>\n",
       "    </tr>\n",
       "    <tr>\n",
       "      <th>4</th>\n",
       "      <td>3703782</td>\n",
       "      <td>(2015 AE45)</td>\n",
       "      <td>25.30</td>\n",
       "      <td>False</td>\n",
       "      <td>0.023150</td>\n",
       "      <td>0.051765</td>\n",
       "      <td>75.952142</td>\n",
       "      <td>169.834153</td>\n",
       "      <td>24703.7439103688</td>\n",
       "      <td>15349.9457647511</td>\n",
       "      <td>8526777.284930033</td>\n",
       "      <td>5298293.7197111354</td>\n",
       "    </tr>\n",
       "  </tbody>\n",
       "</table>\n",
       "</div>"
      ],
      "text/plain": [
       "        id               name  magnitude  hazardous    km_min    km_max  \\\n",
       "0  2154347  154347 (2002 XK4)      16.08      False  1.616423  3.614431   \n",
       "1  2385186  385186 (1994 AW1)      17.67       True  0.777240  1.737961   \n",
       "2  2453309  453309 (2008 VQ4)      19.51      False  0.333085  0.744801   \n",
       "3  3683468       (2014 QR295)      18.41      False  0.552783  1.236061   \n",
       "4  3703782        (2015 AE45)      25.30      False  0.023150  0.051765   \n",
       "\n",
       "        ft_min        ft_max      velocity_kph      velocity_mph  \\\n",
       "0  5303.224689  11858.370904  98611.9155705492  61273.6094277115   \n",
       "1  2549.999104   5701.971339  46527.0874796056  28910.1227730916   \n",
       "2  1092.798343   2443.571381  20959.8190961752  13023.6164822873   \n",
       "3  1813.593823   4055.319071  58249.6828812893  36194.0876769878   \n",
       "4    75.952142    169.834153  24703.7439103688  15349.9457647511   \n",
       "\n",
       "     miss_distance_km  miss_distance_miles  \n",
       "0  49550751.286747985   30789409.125712793  \n",
       "1  33403488.139355999  20755965.0629068262  \n",
       "2  39565965.365513706  24585150.8495369028  \n",
       "3  39330822.646315866  24439039.9390803108  \n",
       "4   8526777.284930033   5298293.7197111354  "
      ]
     },
     "execution_count": 12,
     "metadata": {},
     "output_type": "execute_result"
    }
   ],
   "source": [
    "# Create the final dataframe including the new columns\n",
    "target_cols = [\"id\", \"name\", \"absolute_magnitude_h\", \"is_potentially_hazardous_asteroid\",\n",
    "               'km_min','km_max', 'ft_min', 'ft_max', 'velocity_kph', 'velocity_mph',\n",
    "               'miss_distance_km','miss_distance_miles']\n",
    "asteroid_df = asteroid_df[target_cols]\n",
    "# Rename two columns\n",
    "asteroid_df.rename(columns={\"absolute_magnitude_h\": \"magnitude\",\n",
    "                            \"is_potentially_hazardous_asteroid\": \"hazardous\"}, inplace=True)\n",
    "# Final df\n",
    "asteroid_df.head()"
   ]
  },
  {
   "cell_type": "code",
   "execution_count": 13,
   "id": "05d72a5e",
   "metadata": {},
   "outputs": [
    {
     "name": "stdout",
     "output_type": "stream",
     "text": [
      "<class 'pandas.core.frame.DataFrame'>\n",
      "RangeIndex: 123 entries, 0 to 122\n",
      "Data columns (total 12 columns):\n",
      " #   Column               Non-Null Count  Dtype  \n",
      "---  ------               --------------  -----  \n",
      " 0   id                   123 non-null    object \n",
      " 1   name                 123 non-null    object \n",
      " 2   magnitude            123 non-null    float64\n",
      " 3   hazardous            123 non-null    bool   \n",
      " 4   km_min               123 non-null    float64\n",
      " 5   km_max               123 non-null    float64\n",
      " 6   ft_min               123 non-null    float64\n",
      " 7   ft_max               123 non-null    float64\n",
      " 8   velocity_kph         123 non-null    object \n",
      " 9   velocity_mph         123 non-null    object \n",
      " 10  miss_distance_km     123 non-null    object \n",
      " 11  miss_distance_miles  123 non-null    object \n",
      "dtypes: bool(1), float64(5), object(6)\n",
      "memory usage: 10.8+ KB\n"
     ]
    }
   ],
   "source": [
    "# Info to convert the columns\n",
    "asteroid_df.info()"
   ]
  },
  {
   "cell_type": "code",
   "execution_count": 14,
   "id": "766bb198",
   "metadata": {},
   "outputs": [
    {
     "name": "stdout",
     "output_type": "stream",
     "text": [
      "<class 'pandas.core.frame.DataFrame'>\n",
      "RangeIndex: 123 entries, 0 to 122\n",
      "Data columns (total 12 columns):\n",
      " #   Column               Non-Null Count  Dtype  \n",
      "---  ------               --------------  -----  \n",
      " 0   id                   123 non-null    int64  \n",
      " 1   name                 123 non-null    object \n",
      " 2   magnitude            123 non-null    float64\n",
      " 3   hazardous            123 non-null    bool   \n",
      " 4   km_min               123 non-null    float64\n",
      " 5   km_max               123 non-null    float64\n",
      " 6   ft_min               123 non-null    float64\n",
      " 7   ft_max               123 non-null    float64\n",
      " 8   velocity_kph         123 non-null    float64\n",
      " 9   velocity_mph         123 non-null    float64\n",
      " 10  miss_distance_km     123 non-null    float64\n",
      " 11  miss_distance_miles  123 non-null    float64\n",
      "dtypes: bool(1), float64(9), int64(1), object(1)\n",
      "memory usage: 10.8+ KB\n"
     ]
    }
   ],
   "source": [
    "# Change to numeric values\n",
    "asteroid_df.id = pd.to_numeric(asteroid_df.id)\n",
    "asteroid_df.velocity_kph = pd.to_numeric(asteroid_df.velocity_kph)\n",
    "asteroid_df.velocity_mph = pd.to_numeric(asteroid_df.velocity_mph)\n",
    "asteroid_df.miss_distance_km = pd.to_numeric(asteroid_df.miss_distance_km)\n",
    "asteroid_df.miss_distance_miles = pd.to_numeric(asteroid_df.miss_distance_miles)\n",
    "# New Info\n",
    "asteroid_df.info()"
   ]
  },
  {
   "cell_type": "code",
   "execution_count": 21,
   "id": "7d46f29d",
   "metadata": {},
   "outputs": [],
   "source": [
    "# Import the dependencies\n",
    "import numpy as np\n",
    "from sqlalchemy import create_engine\n",
    "# make sure to create config file in vscode\n",
    "from config1 import password"
   ]
  },
  {
   "cell_type": "code",
   "execution_count": 29,
   "id": "3edf7fa9",
   "metadata": {},
   "outputs": [],
   "source": [
    "# connect to local database\n",
    "protocol = 'postgresql'\n",
    "username = 'postgres'\n",
    "host = 'localhost'\n",
    "port = 5432               \n",
    "database_name = 'Project_3_Asteriods'\n",
    "rds_connection_string = f'{protocol}://{username}:{password}@{host}:{port}/{database_name}'\n",
    "engine = create_engine(rds_connection_string)"
   ]
  },
  {
   "cell_type": "code",
   "execution_count": 27,
   "id": "3a348358",
   "metadata": {},
   "outputs": [
    {
     "name": "stderr",
     "output_type": "stream",
     "text": [
      "C:\\Users\\brads\\AppData\\Local\\Temp\\ipykernel_15392\\4162273999.py:1: SADeprecationWarning: The Engine.table_names() method is deprecated and will be removed in a future release.  Please refer to Inspector.get_table_names(). (deprecated since: 1.4)\n",
      "  engine.table_names()\n"
     ]
    },
    {
     "data": {
      "text/plain": [
       "['asteriod_df']"
      ]
     },
     "execution_count": 27,
     "metadata": {},
     "output_type": "execute_result"
    }
   ],
   "source": [
    "# check for table\n",
    "engine.table_names()"
   ]
  },
  {
   "cell_type": "code",
   "execution_count": 28,
   "id": "7bbb61b3",
   "metadata": {},
   "outputs": [
    {
     "data": {
      "text/plain": [
       "123"
      ]
     },
     "execution_count": 28,
     "metadata": {},
     "output_type": "execute_result"
    }
   ],
   "source": [
    "# Use pandas to load data into the database\n",
    "asteroid_df.to_sql(name='asteriod_df', con=engine, if_exists='append', index=False)"
   ]
  }
 ],
 "metadata": {
  "kernelspec": {
   "display_name": "Python 3 (ipykernel)",
   "language": "python",
   "name": "python3"
  },
  "language_info": {
   "codemirror_mode": {
    "name": "ipython",
    "version": 3
   },
   "file_extension": ".py",
   "mimetype": "text/x-python",
   "name": "python",
   "nbconvert_exporter": "python",
   "pygments_lexer": "ipython3",
   "version": "3.9.12"
  },
  "vscode": {
   "interpreter": {
    "hash": "c52629803c0758df114a2d184f45122dbd2ff529827e00634c45633e348d3e59"
   }
  }
 },
 "nbformat": 4,
 "nbformat_minor": 5
}
